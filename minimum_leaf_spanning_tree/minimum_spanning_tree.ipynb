{
 "cells": [
  {
   "cell_type": "markdown",
   "metadata": {},
   "source": [
    "## An exact algorithm for the Maximum Leaf Spanning Tree problem\n",
    "\n",
    "The Maximum Leaf Spanning Tree (MLST) problem, which asks to find, for a given graph, a spanning tree with as many leaves as possible, is one of the classical NP-complete problems. Ongoing research on this topic is motivated by the fact that variants of this problem occur frequently in real life applications. For example, some broadcasting problems in network design ask to minimize the number of broadcasting nodes, which must be connected to a single root. This translates nicely into finding a spanning tree with many leaves and few internal nodes. "
   ]
  },
  {
   "cell_type": "code",
   "execution_count": 1,
   "metadata": {},
   "outputs": [],
   "source": [
    "import networkx as nx\n",
    "import matplotlib.pyplot as plt\n",
    "import operator"
   ]
  },
  {
   "cell_type": "code",
   "execution_count": 2,
   "metadata": {},
   "outputs": [],
   "source": [
    "def sub(list1,list2):\n",
    "    return [item for item in list1 if item not in list2]"
   ]
  },
  {
   "cell_type": "code",
   "execution_count": 3,
   "metadata": {},
   "outputs": [],
   "source": [
    "def intersection(list1, list2):\n",
    "    return [value for value in list1 if value in list2]"
   ]
  },
  {
   "cell_type": "code",
   "execution_count": 4,
   "metadata": {},
   "outputs": [],
   "source": [
    "def isUnreachable(G, Free, FL, BN, v):\n",
    "    isPath = False\n",
    "    for u in BN:\n",
    "        H = G.subgraph(Free+FL+[u])\n",
    "        if nx.has_path(H,u,v): \n",
    "            isPath = True\n",
    "#             print(\"path exists\")\n",
    "#         else:\n",
    "#             print(\"path doesn't exist\")\n",
    "    return not isPath"
   ]
  },
  {
   "cell_type": "code",
   "execution_count": 5,
   "metadata": {},
   "outputs": [],
   "source": [
    "def N(v,G):\n",
    "    return [n for n in G.neighbors(v)]"
   ]
  },
  {
   "cell_type": "code",
   "execution_count": 6,
   "metadata": {},
   "outputs": [],
   "source": [
    "def N_X(v,G,X):\n",
    "    return [value for value in N(v,G) if value in X]"
   ]
  },
  {
   "cell_type": "code",
   "execution_count": 7,
   "metadata": {},
   "outputs": [],
   "source": [
    "def d(v,G,IN,BN,LN,FL,Free):\n",
    "    if v in BN:\n",
    "        return len([value for value in N(v,G) if value in Free+FL])\n",
    "    elif v in Free:\n",
    "        return len([value for value in N(v,G) if value in Free+FL+BN])\n",
    "    elif v in FL:\n",
    "        return len([value for value in N(v,G) if value in Free+BN])\n",
    "    else:\n",
    "        return 0;"
   ]
  },
  {
   "cell_type": "code",
   "execution_count": 24,
   "metadata": {},
   "outputs": [],
   "source": [
    "def algo(G,IN,BN,LN,FL,Free):\n",
    "    print(\"Starting with Graph\")\n",
    "    print(\"IN =\",IN)\n",
    "    print(\"BN =\",BN)\n",
    "    print(\"LN =\",LN)\n",
    "    print(\"FL =\",FL)\n",
    "    print(\"Free =\",Free)\n",
    "    \n",
    "    # if there is some unreachable v∈ Free∪ FL, then return 0 \n",
    "    for v in Free+FL:\n",
    "        #checking unreachibility\n",
    "        result = isUnreachable(G,Free,FL,BN,v)\n",
    "        if result:\n",
    "            print(\"final Graph:\")\n",
    "            print(\"IN =\",IN)\n",
    "            print(\"BN =\",BN)\n",
    "            print(\"LN =\",LN)\n",
    "            print(\"FL =\",FL)\n",
    "            print(\"Free =\",Free)\n",
    "            return 0;\n",
    "    if (list(G.nodes)==IN+LN):\n",
    "        print(\"final Graph LN:\")\n",
    "        print(\"IN =\",IN)\n",
    "        print(\"BN =\",BN)\n",
    "        print(\"LN =\",LN)\n",
    "        print(\"FL =\",FL)\n",
    "        print(\"Free =\",Free)\n",
    "        return len(LN)\n",
    "    # choose vertex v of max degree in BN\n",
    "    degreeDict = {k : G.degree[k] for k in BN}\n",
    "    v = max(degreeDict.items(), key=operator.itemgetter(1))[0]\n",
    "    print (v)\n",
    "    degree = d(v,G,IN,BN,LN,FL,Free)\n",
    "    print(degree)\n",
    "    if (degree>=3) or (degree==2 and len(N_X(v,G,FL))!= 0):\n",
    "        algo(G,IN,[u for u in BN if u!=v],LN+[v],FL,Free)\n",
    "        algo(G,IN+[v],[u for u in BN if u!=v],LN,FL,Free)\n",
    "    elif (degree == 2):\n",
    "        [x1,x2] = N_X(v,G,Free)\n",
    "        if(d(x1,G,IN,BN,LN,FL,Free)<d(x2,G,IN,BN,LN,FL,Free)):\n",
    "            temp = x2\n",
    "            x2 = x1\n",
    "            x1 = temp\n",
    "        if d(x1,G,IN,BN,LN,FL,Free)==2:\n",
    "            [z] = N(x1,G).remove(v)\n",
    "            if z in Free:\n",
    "                algo(G,IN,[u for u in BN if u!=v],LN+[v],FL,Free)\n",
    "                algo(G,IN+[v,x1],[u for u in BN if u!=v],LN,FL,[u for u in Free if u!=x1])\n",
    "                algo(G,IN+[v],[u for u in BN if u!=v],LN+[x1],FL,[u for u in Free if u!=x1])\n",
    "            elif z in FL:\n",
    "                algo(G,IN+[v],[u for u in BN if u!=v],LN,FL,Free)\n",
    "        elif [v]==(sub(intersection(N(x1,G),N(x2,G)),FL)) and (d(z,G,IN,BN,LN,FL,Free)>=3 for z in intersection(N_X(x1,G,FL),N_X(x2,G,FL))):\n",
    "            algo(G,IN,[u for u in BN if u!=v],LN+[v],FL,Free)\n",
    "            algo(G,IN+[v,x1],[u for u in BN if u!=v],LN,FL,[u for u in Free if u!=x1])\n",
    "            algo(G,IN+[v,x2],[u for u in BN if u!=v],LN+[x1],FL,[u for u in Free if u not in [x1,x2]])\n",
    "            \n",
    "            algo(G,IN+[v], #IN\n",
    "                 [u for u in BN if (u!=v and u not in sub(list(set(N_X(x1,G,BN)+N_X(x2,G,BN))),[v]))], #BN\n",
    "                 LN+[x1,x2]+list(set(N_X(x1,G,BN)+N_X(x2,G,BN))), #LN\n",
    "                 list(set(N_X(x1,G,Free)+N_X(x2,G,Free)+FL)), #FL\n",
    "                 sub(Free,list(set(N_X(x1,G,Free)+N_X(x2,G,Free)))))#FREE\n",
    "        else:\n",
    "            algo(G,IN,[u for u in BN if u!=v],LN+[v],FL,Free)\n",
    "            algo(G,IN+[v,x1],[u for u in BN if u!=v],LN,FL,[u for u in Free if u!=x1])\n",
    "            algo(G,IN+[v,x2],[u for u in BN if u!=v],LN+[x1],FL,[u for u in Free if u not in [x1,x2]])\n",
    "    elif degree == 1:\n",
    "#         print(\"------------Remaining----------------\")\n",
    "        free_graph = G.subgraph(Free+[v])\n",
    "        max_ = 0\n",
    "        for u in Free:\n",
    "            if(d(u,G,IN,BN,LN,FL,Free)==2):\n",
    "                path = max(nx.all_simple_paths(G, source=v, target=u))\n",
    "                len_ = len(path)\n",
    "                if(max_ <  len_):\n",
    "                    max_ = len_\n",
    "                    vk = u\n",
    "                    max_path = path\n",
    "        z = sub(N(vk,G),path)[0]\n",
    "        deg_z = d(z,G,IN,BN,LN,FL,Free)\n",
    "        if (z in FL and deg_z == 1):\n",
    "             algo(G,IN+path,[u for u in BN if u!=v],LN+[z],FL,sub(Free,path+[z]))\n",
    "        elif (z in FL and deg_z >1):\n",
    "            algo(G,IN+sub(path,[vk]),[u for u in BN if u!=v],LN+[vk],FL,sub(Free,path))\n",
    "        elif (z in BN):\n",
    "            algo(G,IN,[u for u in BN if u!=v],LN+[v],FL,Free)\n",
    "        elif (z in Free):\n",
    "            algo(G,IN+path,[u for u in BN if u!=v],LN+[z],FL,sub(Free,path+[z]))\n",
    "            algo(G,IN,[u for u in BN if u!=v],LN+[v],FL,Free)\n",
    "        else:\n",
    "            print(\"lite\")\n",
    "    else:\n",
    "        print(degree)\n",
    "        print(\"lite max\")\n",
    "\n",
    "            \n",
    "            "
   ]
  },
  {
   "cell_type": "code",
   "execution_count": 25,
   "metadata": {},
   "outputs": [],
   "source": [
    "G = nx.empty_graph()\n",
    "G.add_nodes_from(['a','b','c','d','e'])\n",
    "G.add_edges_from([('a', 'b'), ('a', 'e'),('b', 'e'),('b', 'c'),('b', 'd')\n",
    "                  ,('c', 'd'),('d','e')])"
   ]
  },
  {
   "cell_type": "code",
   "execution_count": 26,
   "metadata": {},
   "outputs": [
    {
     "data": {
      "image/png": "[encoded data removed]",
      "text/plain": [
       "<Figure size 432x288 with 1 Axes>"
      ]
     },
     "metadata": {},
     "output_type": "display_data"
    }
   ],
   "source": [
    "nx.draw(G, with_labels=True, font_weight='bold')"
   ]
  },
  {
   "cell_type": "code",
   "execution_count": 27,
   "metadata": {
    "scrolled": false
   },
   "outputs": [
    {
     "name": "stdout",
     "output_type": "stream",
     "text": [
      "Starting with Graph\n",
      "IN = ['a']\n",
      "BN = ['e', 'b']\n",
      "LN = []\n",
      "FL = []\n",
      "Free = ['c', 'd']\n",
      "b\n",
      "2\n",
      "Starting with Graph\n",
      "IN = ['a']\n",
      "BN = ['e']\n",
      "LN = ['b']\n",
      "FL = []\n",
      "Free = ['c', 'd']\n",
      "e\n",
      "1\n",
      "lite\n",
      "Starting with Graph\n",
      "IN = ['a', 'b', 'd']\n",
      "BN = ['e']\n",
      "LN = []\n",
      "FL = []\n",
      "Free = ['c']\n",
      "final Graph:\n",
      "IN = ['a', 'b', 'd']\n",
      "BN = ['e']\n",
      "LN = []\n",
      "FL = []\n",
      "Free = ['c']\n",
      "Starting with Graph\n",
      "IN = ['a', 'b', 'c']\n",
      "BN = ['e']\n",
      "LN = ['d']\n",
      "FL = []\n",
      "Free = []\n",
      "e\n",
      "0\n",
      "0\n",
      "lite max\n",
      "Starting with Graph\n",
      "IN = ['a', 'b']\n",
      "BN = []\n",
      "LN = ['d', 'c', 'b', 'e']\n",
      "FL = ['d', 'c']\n",
      "Free = []\n",
      "final Graph:\n",
      "IN = ['a', 'b']\n",
      "BN = []\n",
      "LN = ['d', 'c', 'b', 'e']\n",
      "FL = ['d', 'c']\n",
      "Free = []\n"
     ]
    }
   ],
   "source": [
    "IN = ['a']\n",
    "Free = ['c','d']\n",
    "BN = ['e','b']\n",
    "LN = []\n",
    "FL = []\n",
    "algo(G,IN,BN,LN,FL,Free)"
   ]
  }
 ],
 "metadata": {
  "kernelspec": {
   "display_name": "Python 3",
   "language": "python",
   "name": "python3"
  },
  "language_info": {
   "codemirror_mode": {
    "name": "ipython",
    "version": 3
   },
   "file_extension": ".py",
   "mimetype": "text/x-python",
   "name": "python",
   "nbconvert_exporter": "python",
   "pygments_lexer": "ipython3",
   "version": "3.7.1"
  }
 },
 "nbformat": 4,
 "nbformat_minor": 2
}
